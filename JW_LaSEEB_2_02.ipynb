{
 "cells": [
  {
   "cell_type": "markdown",
   "id": "basic-overhead",
   "metadata": {},
   "source": [
    "# Jupyter Notebook Workshop - 2.2\n",
    "\n",
    "### Reading DICOM Image and Metadata using ITK"
   ]
  },
  {
   "cell_type": "code",
   "execution_count": 6,
   "id": "treated-trading",
   "metadata": {},
   "outputs": [
    {
     "name": "stdout",
     "output_type": "stream",
     "text": [
      "Patient's Name 281949\n",
      "Slice Thickness 1 \n",
      "Repetition Time 8.6 \n",
      "Echo Time 4.11\n"
     ]
    }
   ],
   "source": [
    "import itk\n",
    "\n",
    "namesGenerator = itk.GDCMSeriesFileNames.New()\n",
    "namesGenerator.SetUseSeriesDetails(True)\n",
    "namesGenerator.AddSeriesRestriction(\"0008|0021\")\n",
    "namesGenerator.SetGlobalWarningDisplay(False)\n",
    "namesGenerator.SetDirectory(cT1w_data_dir)\n",
    "\n",
    "seriesUIDs = (\n",
    "    namesGenerator.GetSeriesUIDs()\n",
    ")  # this gets the series UID that will allows us to separate two or more series in a folder\n",
    "\n",
    "uid = seriesUIDs[0]\n",
    "\n",
    "dicom_names = namesGenerator.GetFileNames(uid)\n",
    "\n",
    "PixelType = itk.ctype(\"signed short\")\n",
    "Dimension = 3\n",
    "\n",
    "ImageType = itk.Image[PixelType, Dimension]\n",
    "\n",
    "reader_itk = itk.ImageSeriesReader[ImageType].New()\n",
    "dicomIO = itk.GDCMImageIO.New()\n",
    "reader_itk.SetImageIO(dicomIO)\n",
    "reader_itk.SetFileNames(dicom_names)\n",
    "reader_itk.ForceOrthogonalDirectionOff()\n",
    "reader_itk.Update()\n",
    "\n",
    "metad = dicomIO.GetMetaDataDictionary()\n",
    "# metad['0010|0010']\n",
    "print(\"Patient's Name\", metad[\"0010|0010\"])\n",
    "print(\"Slice Thickness\", metad[\"0018|0050\"])\n",
    "print(\"Repetition Time\", metad[\"0018|0080\"])\n",
    "print(\"Echo Time\", metad[\"0018|0081\"])"
   ]
  },
  {
   "cell_type": "code",
   "execution_count": 7,
   "id": "married-vietnam",
   "metadata": {},
   "outputs": [
    {
     "name": "stdout",
     "output_type": "stream",
     "text": [
      "Image (0000015E4AE7B970)\n",
      "  RTTI typeinfo:   class itk::Image<short,3>\n",
      "  Reference Count: 2\n",
      "  Modified Time: 5213\n",
      "  Debug: Off\n",
      "  Object Name: \n",
      "  Observers: \n",
      "    none\n",
      "  Source: (0000015E4B576AF0) \n",
      "  Source output name: Primary\n",
      "  Release Data: Off\n",
      "  Data Released: False\n",
      "  Global Release Data: Off\n",
      "  PipelineMTime: 53\n",
      "  UpdateMTime: 5214\n",
      "  RealTimeStamp: 0 seconds \n",
      "  LargestPossibleRegion: \n",
      "    Dimension: 3\n",
      "    Index: [0, 0, 0]\n",
      "    Size: [256, 256, 176]\n",
      "  BufferedRegion: \n",
      "    Dimension: 3\n",
      "    Index: [0, 0, 0]\n",
      "    Size: [256, 256, 176]\n",
      "  RequestedRegion: \n",
      "    Dimension: 3\n",
      "    Index: [0, 0, 0]\n",
      "    Size: [256, 256, 176]\n",
      "  Spacing: [1, 1, 1]\n",
      "  Origin: [86.1441, -139.893, 128]\n",
      "  Direction: \n",
      "0 0 -1\n",
      "1 0 0\n",
      "0 -1 0\n",
      "\n",
      "  IndexToPointMatrix: \n",
      "0 0 -1\n",
      "1 0 0\n",
      "0 -1 0\n",
      "\n",
      "  PointToIndexMatrix: \n",
      "0 1 0\n",
      "0 0 -1\n",
      "-1 0 0\n",
      "\n",
      "  Inverse Direction: \n",
      "0 1 0\n",
      "0 0 -1\n",
      "-1 0 0\n",
      "\n",
      "  PixelContainer: \n",
      "    ImportImageContainer (0000015E4C031270)\n",
      "      RTTI typeinfo:   class itk::ImportImageContainer<unsigned __int64,short>\n",
      "      Reference Count: 1\n",
      "      Modified Time: 107\n",
      "      Debug: Off\n",
      "      Object Name: \n",
      "      Observers: \n",
      "        none\n",
      "      Pointer: 0000015E4DE0D040\n",
      "      Container manages memory: true\n",
      "      Size: 11534336\n",
      "      Capacity: 11534336\n",
      "\n"
     ]
    }
   ],
   "source": [
    "image_itk = (\n",
    "    reader_itk.GetOutput()\n",
    ")  # this loads all .dcm files and creates a 3D volume corresponding to the acquisition\n",
    "print(\n",
    "    image_itk\n",
    ")  # this is not just voxel values, it contains image information like size, orientation, origin, etc."
   ]
  },
  {
   "cell_type": "code",
   "execution_count": 8,
   "id": "twelve-demand",
   "metadata": {},
   "outputs": [
    {
     "data": {
      "application/vnd.jupyter.widget-view+json": {
       "model_id": "c808979b749f42d38d87d9c7b85cfcd5",
       "version_major": 2,
       "version_minor": 0
      },
      "text/plain": [
       "Viewer(geometries=[], gradient_opacity=0.22, point_sets=[], rendered_image=<itk.itkImagePython.itkImageSS3; pr…"
      ]
     },
     "metadata": {},
     "output_type": "display_data"
    }
   ],
   "source": [
    "import itkwidgets as itkw\n",
    "\n",
    "itkw.view(image_itk)"
   ]
  },
  {
   "cell_type": "code",
   "execution_count": 9,
   "id": "monetary-toolbox",
   "metadata": {},
   "outputs": [
    {
     "data": {
      "application/vnd.jupyter.widget-view+json": {
       "model_id": "99d2e42bc5314296b77ec99e0ed2a594",
       "version_major": 2,
       "version_minor": 0
      },
      "text/plain": [
       "Viewer(cmap=['Grayscale'], geometries=[], gradient_opacity=0.22, point_sets=[], rendered_image=<itk.itkImagePy…"
      ]
     },
     "metadata": {},
     "output_type": "display_data"
    }
   ],
   "source": [
    "itkw.view(image_itk, cmap=\"Grayscale\")"
   ]
  },
  {
   "cell_type": "markdown",
   "id": "extended-gateway",
   "metadata": {},
   "source": [
    "You can also request the anatomical plane you wish to view (command mode: {'x', 'y', 'z', 'v' - default})"
   ]
  },
  {
   "cell_type": "code",
   "execution_count": 10,
   "id": "destroyed-ensemble",
   "metadata": {},
   "outputs": [
    {
     "data": {
      "application/vnd.jupyter.widget-view+json": {
       "model_id": "99a88f902a9d4a7cbc691889685ebc7b",
       "version_major": 2,
       "version_minor": 0
      },
      "text/plain": [
       "Viewer(cmap=['Grayscale'], geometries=[], gradient_opacity=0.22, mode='x', point_sets=[], rendered_image=<itk.…"
      ]
     },
     "metadata": {},
     "output_type": "display_data"
    }
   ],
   "source": [
    "itkw.view(image_itk, cmap=\"Grayscale\", mode=\"x\")"
   ]
  },
  {
   "cell_type": "markdown",
   "id": "grateful-bruce",
   "metadata": {},
   "source": [
    "Request the slicing planes on you volume rendering (command slicing_planes: {True, False - default})"
   ]
  },
  {
   "cell_type": "code",
   "execution_count": 11,
   "id": "eight-dynamics",
   "metadata": {},
   "outputs": [
    {
     "data": {
      "application/vnd.jupyter.widget-view+json": {
       "model_id": "8d7da24147e6410588f0c3c23ff2b194",
       "version_major": 2,
       "version_minor": 0
      },
      "text/plain": [
       "Viewer(cmap=['Grayscale'], geometries=[], gradient_opacity=0.22, point_sets=[], rendered_image=<itk.itkImagePy…"
      ]
     },
     "metadata": {},
     "output_type": "display_data"
    }
   ],
   "source": [
    "itkw.view(image_itk, cmap=\"Grayscale\", slicing_planes=True)"
   ]
  }
 ],
 "metadata": {
  "kernelspec": {
   "display_name": "Python 3",
   "language": "python",
   "name": "python3"
  },
  "language_info": {
   "codemirror_mode": {
    "name": "ipython",
    "version": 3
   },
   "file_extension": ".py",
   "mimetype": "text/x-python",
   "name": "python",
   "nbconvert_exporter": "python",
   "pygments_lexer": "ipython3",
   "version": "3.8.7"
  }
 },
 "nbformat": 4,
 "nbformat_minor": 5
}
