{
 "cells": [
  {
   "cell_type": "markdown",
   "metadata": {},
   "source": [
    "# Jupyter Notebook Workshop - 2.2\n",
    "\n",
    "### Reading DICOM Image and Metadata using ITK"
   ]
  },
  {
   "cell_type": "code",
   "execution_count": 6,
   "metadata": {},
   "outputs": [],
   "source": [
    "import itk\n",
    "\n",
    "namesGenerator = itk.GDCMSeriesFileNames.New()\n",
    "namesGenerator.SetUseSeriesDetails(True)\n",
    "namesGenerator.AddSeriesRestriction(\"0008|0021\")\n",
    "namesGenerator.SetGlobalWarningDisplay(False)\n",
    "namesGenerator.SetDirectory(cT1w_data_dir)\n",
    "\n",
    "seriesUIDs = (\n",
    "    namesGenerator.GetSeriesUIDs()\n",
    ")  # this gets the series UID that will allows us to separate two or more series in a folder\n",
    "\n",
    "uid = seriesUIDs[0]\n",
    "\n",
    "dicom_names = namesGenerator.GetFileNames(uid)\n",
    "\n",
    "PixelType = itk.ctype(\"signed short\")\n",
    "Dimension = 3\n",
    "\n",
    "ImageType = itk.Image[PixelType, Dimension]\n",
    "\n",
    "reader_itk = itk.ImageSeriesReader[ImageType].New()\n",
    "dicomIO = itk.GDCMImageIO.New()\n",
    "reader_itk.SetImageIO(dicomIO)\n",
    "reader_itk.SetFileNames(dicom_names)\n",
    "reader_itk.ForceOrthogonalDirectionOff()\n",
    "reader_itk.Update()\n",
    "\n",
    "metad = dicomIO.GetMetaDataDictionary()\n",
    "# metad['0010|0010']\n",
    "print(\"Patient's Name\", metad[\"0010|0010\"])\n",
    "print(\"Slice Thickness\", metad[\"0018|0050\"])\n",
    "print(\"Repetition Time\", metad[\"0018|0080\"])\n",
    "print(\"Echo Time\", metad[\"0018|0081\"])"
   ]
  },
  {
   "cell_type": "code",
   "execution_count": 7,
   "metadata": {},
   "outputs": [],
   "source": [
    "image_itk = (\n",
    "    reader_itk.GetOutput()\n",
    ")  # this loads all .dcm files and creates a 3D volume corresponding to the acquisition\n",
    "print(\n",
    "    image_itk\n",
    ")  # this is not just voxel values, it contains image information like size, orientation, origin, etc."
   ]
  },
  {
   "cell_type": "code",
   "execution_count": 8,
   "metadata": {},
   "outputs": [],
   "source": [
    "import itkwidgets as itkw\n",
    "\n",
    "itkw.view(image_itk)"
   ]
  },
  {
   "cell_type": "code",
   "execution_count": 9,
   "metadata": {},
   "outputs": [],
   "source": [
    "itkw.view(image_itk, cmap=\"Grayscale\")"
   ]
  },
  {
   "cell_type": "markdown",
   "metadata": {},
   "source": [
    "You can also request the anatomical plane you wish to view (command mode: {'x', 'y', 'z', 'v' - default})"
   ]
  },
  {
   "cell_type": "code",
   "execution_count": 10,
   "metadata": {},
   "outputs": [],
   "source": [
    "itkw.view(image_itk, cmap=\"Grayscale\", mode=\"x\")"
   ]
  },
  {
   "cell_type": "markdown",
   "metadata": {},
   "source": [
    "Request the slicing planes on you volume rendering (command slicing_planes: {True, False - default})"
   ]
  },
  {
   "cell_type": "code",
   "execution_count": 11,
   "metadata": {},
   "outputs": [],
   "source": [
    "itkw.view(image_itk, cmap=\"Grayscale\", slicing_planes=True)"
   ]
  }
 ],
 "metadata": {
  "kernelspec": {
   "display_name": "Python 3",
   "language": "python",
   "name": "python3"
  },
  "language_info": {
   "codemirror_mode": {
    "name": "ipython",
    "version": 3
   },
   "file_extension": ".py",
   "mimetype": "text/x-python",
   "name": "python",
   "nbconvert_exporter": "python",
   "pygments_lexer": "ipython3",
   "version": "3.8.7"
  }
 },
 "nbformat": 4,
 "nbformat_minor": 5
}