{
 "cells": [
  {
   "cell_type": "markdown",
   "metadata": {},
   "source": [
    "# Jupyter Notebook Workshop - 1.1\n",
    "## Interact"
   ]
  },
  {
   "cell_type": "code",
   "execution_count": 1,
   "metadata": {},
   "outputs": [],
   "source": [
    "%matplotlib widget\n",
    "import ipywidgets as widgets\n",
    "import matplotlib.pyplot as plt\n",
    "import numpy as np"
   ]
  },
  {
   "cell_type": "markdown",
   "metadata": {},
   "source": [
    "#### Simple interact widget:"
   ]
  },
  {
   "cell_type": "code",
   "execution_count": 2,
   "metadata": {},
   "outputs": [
    {
     "data": {
      "application/vnd.jupyter.widget-view+json": {
       "model_id": "847bdcd14fc44b87845fcb3ed7267bdc",
       "version_major": 2,
       "version_minor": 0
      },
      "text/plain": [
       "interactive(children=(Dropdown(description='x', options=(0, 1, 2, 3), value=0), Output()), _dom_classes=('widg…"
      ]
     },
     "metadata": {},
     "output_type": "display_data"
    },
    {
     "name": "stdout",
     "output_type": "stream",
     "text": [
      "--------\n"
     ]
    },
    {
     "data": {
      "application/vnd.jupyter.widget-view+json": {
       "model_id": "dbf5467a0f464866aecd5d8ddc2a8784",
       "version_major": 2,
       "version_minor": 0
      },
      "text/plain": [
       "interactive(children=(IntSlider(value=5, description='x', max=10), Output()), _dom_classes=('widget-interact',…"
      ]
     },
     "metadata": {},
     "output_type": "display_data"
    },
    {
     "name": "stdout",
     "output_type": "stream",
     "text": [
      "--------\n"
     ]
    },
    {
     "data": {
      "application/vnd.jupyter.widget-view+json": {
       "model_id": "18be20c73e0546ecaa9a585b8cb8ca49",
       "version_major": 2,
       "version_minor": 0
      },
      "text/plain": [
       "interactive(children=(FloatSlider(value=5.0, description='x', max=10.0, step=0.5), Output()), _dom_classes=('w…"
      ]
     },
     "metadata": {},
     "output_type": "display_data"
    },
    {
     "name": "stdout",
     "output_type": "stream",
     "text": [
      "--------\n"
     ]
    },
    {
     "data": {
      "application/vnd.jupyter.widget-view+json": {
       "model_id": "fba12983389b40dba7a3d9e61b421b6c",
       "version_major": 2,
       "version_minor": 0
      },
      "text/plain": [
       "interactive(children=(Checkbox(value=True, description='x'), Output()), _dom_classes=('widget-interact',))"
      ]
     },
     "metadata": {},
     "output_type": "display_data"
    },
    {
     "data": {
      "application/vnd.jupyter.widget-view+json": {
       "model_id": "9d186c8d95ed49888bf6a6b664ebda7b",
       "version_major": 2,
       "version_minor": 0
      },
      "text/plain": [
       "interactive(children=(FloatSlider(value=5.0, description='x', max=10.0, step=1.0), Output()), _dom_classes=('w…"
      ]
     },
     "metadata": {},
     "output_type": "display_data"
    }
   ],
   "source": [
    "def print_value(x):\n",
    "    print(\"Widget value: {:s}\".format(str(x)))\n",
    "\n",
    "\n",
    "widgets.interact(print_value, x=[0, 1, 2, 3])\n",
    "print(\"--------\")\n",
    "widgets.interact(print_value, x=(0, 10, 1))\n",
    "print(\"--------\")\n",
    "widgets.interact(print_value, x=(0, 10, 0.5))\n",
    "print(\"--------\")\n",
    "_ = widgets.interact(print_value, x=True)\n",
    "\n",
    "\n",
    "@widgets.interact(x=(0, 10, 1.0))\n",
    "def print_value_decorator(x):\n",
    "    print(\"Widget value: {:s}\".format(str(x)))"
   ]
  },
  {
   "cell_type": "code",
   "execution_count": 3,
   "metadata": {},
   "outputs": [
    {
     "data": {
      "application/vnd.jupyter.widget-view+json": {
       "model_id": "bfd79467119b4513941da8fa4ea8b5ef",
       "version_major": 2,
       "version_minor": 0
      },
      "text/plain": [
       "VBox(children=(IntSlider(value=5, description='slider', max=10), IntRangeSlider(value=(20, 40), description='r…"
      ]
     },
     "metadata": {},
     "output_type": "display_data"
    }
   ],
   "source": [
    "int_slider = widgets.IntSlider(value=5, min=0, max=10, step=1, description=\"slider\")\n",
    "\n",
    "int_range_slider = widgets.IntRangeSlider(\n",
    "    value=(20, 40), min=0, max=100, step=2, description=\"range slider\"\n",
    ")\n",
    "\n",
    "dropdown = widgets.Dropdown(\n",
    "    value=\"feb\", options=[\"jan\", \"feb\", \"mar\", \"apr\"], description=\"dropdown\"\n",
    ")\n",
    "\n",
    "radiobuttons = widgets.RadioButtons(\n",
    "    value=\"feb\", options=[\"jan\", \"feb\", \"mar\", \"apr\"], description=\"radio buttons\"\n",
    ")\n",
    "\n",
    "combobox = widgets.Combobox(\n",
    "    placeholder=\"start typing... (e.g. L or o)\",\n",
    "    options=[\"Amsterdam\", \"Athens\", \"Lisbon\", \"London\"],\n",
    "    description=\"combo box\",\n",
    ")\n",
    "\n",
    "checkbox = widgets.Checkbox(description=\"checkbox\", value=True)\n",
    "\n",
    "\n",
    "widgets.VBox(\n",
    "    [\n",
    "        int_slider,\n",
    "        int_range_slider,\n",
    "        dropdown,\n",
    "        radiobuttons,\n",
    "        checkbox,\n",
    "        combobox,\n",
    "    ]\n",
    ")"
   ]
  },
  {
   "cell_type": "code",
   "execution_count": 4,
   "metadata": {},
   "outputs": [
    {
     "data": {
      "application/vnd.jupyter.widget-view+json": {
       "model_id": "761ebef3c17c4a1faf798643116e8844",
       "version_major": 2,
       "version_minor": 0
      },
      "text/plain": [
       "Textarea(value='Accordion\\nAppLayout\\nAudio\\nBoundedFloatText\\nBoundedIntText\\nBox\\nButton\\nButtonStyle\\nCallb…"
      ]
     },
     "metadata": {},
     "output_type": "display_data"
    }
   ],
   "source": [
    "widgets.Textarea(\n",
    "    \"\\n\".join([w for w in dir(widgets) if not w.islower()]),\n",
    "    layout=widgets.Layout(height=\"200px\"),\n",
    ")"
   ]
  },
  {
   "cell_type": "markdown",
   "metadata": {},
   "source": [
    "#### Interact widget set to manipulate a plot"
   ]
  },
  {
   "cell_type": "code",
   "execution_count": 6,
   "metadata": {},
   "outputs": [
    {
     "data": {
      "application/vnd.jupyter.widget-view+json": {
       "model_id": "132aae04bcc54b8da2a70498e66ae4c4",
       "version_major": 2,
       "version_minor": 0
      },
      "text/plain": [
       "Canvas(toolbar=Toolbar(toolitems=[('Home', 'Reset original view', 'home', 'home'), ('Back', 'Back to previous …"
      ]
     },
     "metadata": {},
     "output_type": "display_data"
    },
    {
     "data": {
      "application/vnd.jupyter.widget-view+json": {
       "model_id": "0fadcb3ded3b46dbaae4726bfd7adf07",
       "version_major": 2,
       "version_minor": 0
      },
      "text/plain": [
       "interactive(children=(IntSlider(value=1, description='w', max=10), FloatSlider(value=1.0, description='amp', m…"
      ]
     },
     "metadata": {},
     "output_type": "display_data"
    }
   ],
   "source": [
    "fig, ax = plt.subplots(figsize=(6, 4))\n",
    "ax.set_ylim([-4, 4])\n",
    "ax.grid(True)\n",
    "\n",
    "x = np.linspace(0, 2 * np.pi, 100)\n",
    "\n",
    "\n",
    "def sine(x, w, amp, phi):\n",
    "    return amp * np.sin(w * (x - phi))\n",
    "\n",
    "\n",
    "@widgets.interact(w=(0, 10, 1), amp=(0, 4, 0.1), phi=(0, 2 * np.pi + 0.01, 0.01))\n",
    "def update(w=1.0, amp=1, phi=0):\n",
    "    \"\"\"Remove old lines from plot and plot new one\"\"\"\n",
    "    [l.remove() for l in ax.lines]\n",
    "    ax.plot(x, sine(x, w, amp, phi), color=\"b\")"
   ]
  },
  {
   "cell_type": "code",
   "execution_count": 7,
   "metadata": {},
   "outputs": [
    {
     "data": {
      "application/vnd.jupyter.widget-view+json": {
       "model_id": "b56e2d2c28804c45badcef4c8be5486a",
       "version_major": 2,
       "version_minor": 0
      },
      "text/plain": [
       "HBox(children=(VBox(children=(FloatSlider(value=1.0, continuous_update=False, description='$\\\\omega$', max=10.…"
      ]
     },
     "metadata": {},
     "output_type": "display_data"
    }
   ],
   "source": [
    "output = widgets.Output()\n",
    "with output:\n",
    "    fig, ax = plt.subplots(figsize=(6, 4))\n",
    "\n",
    "ax.set_ylim([-4, 4])\n",
    "ax.grid(True)\n",
    "initial_color = \"#011bfe\"\n",
    "fig.canvas.toolbar_position = \"bottom\"\n",
    "\n",
    "\n",
    "def make_box_layout():\n",
    "    return widgets.Layout(\n",
    "        border=\"solid 1px black\", margin=\"0px 10px 10px 0px\", padding=\"5px 5px 5px 5px\"\n",
    "    )\n",
    "\n",
    "\n",
    "def line_color(change):\n",
    "    line.set_color(change.new)\n",
    "\n",
    "\n",
    "def update(change):\n",
    "    line.set_ydata(sine(x, w_slider.value, amp_slider.value, phi_slider.value))\n",
    "    fig.canvas.draw()\n",
    "\n",
    "\n",
    "w_slider = widgets.FloatSlider(\n",
    "    value=1.0,\n",
    "    min=0.0,\n",
    "    max=10.0,\n",
    "    step=1.0,\n",
    "    description=\"$\\omega$\",\n",
    "    continuous_update=False,\n",
    ")\n",
    "\n",
    "amp_slider = widgets.FloatSlider(\n",
    "    value=1.0, min=0.0, max=4.0, step=0.1, description=\"$Amp$\", continuous_update=False\n",
    ")\n",
    "phi_slider = widgets.FloatSlider(\n",
    "    value=0.0,\n",
    "    min=0.0,\n",
    "    max=2.0 * np.pi + 0.01,\n",
    "    step=0.01,\n",
    "    description=\"$\\phi$\",\n",
    "    continuous_update=False,\n",
    ")\n",
    "color_picker = widgets.ColorPicker(value=initial_color, description=\"Pick a color\")\n",
    "\n",
    "w_slider.observe(update)\n",
    "amp_slider.observe(update)\n",
    "phi_slider.observe(update)\n",
    "color_picker.observe(line_color, \"value\")\n",
    "\n",
    "(line,) = ax.plot(x, sine(x, w_slider.value, amp_slider.value, phi_slider.value))\n",
    "\n",
    "controls = widgets.VBox([w_slider, amp_slider, phi_slider, color_picker])\n",
    "\n",
    "controls.layout = make_box_layout()\n",
    "\n",
    "out_box = widgets.Box([output])\n",
    "output.layout = make_box_layout()\n",
    "widgets.HBox([controls, output])"
   ]
  },
  {
   "cell_type": "code",
   "execution_count": null,
   "metadata": {},
   "outputs": [],
   "source": []
  }
 ],
 "metadata": {
  "kernelspec": {
   "display_name": "Python 3",
   "language": "python",
   "name": "python3"
  },
  "language_info": {
   "codemirror_mode": {
    "name": "ipython",
    "version": 3
   },
   "file_extension": ".py",
   "mimetype": "text/x-python",
   "name": "python",
   "nbconvert_exporter": "python",
   "pygments_lexer": "ipython3",
   "version": "3.7.9"
  }
 },
 "nbformat": 4,
 "nbformat_minor": 4
}
